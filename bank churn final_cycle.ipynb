{
 "cells": [
  {
   "cell_type": "raw",
   "id": "740ba871",
   "metadata": {},
   "source": [
    "GOAL - decrease a bank's customer churn\n",
    "\n",
    "strategy addressed - cyclic method\n",
    "\n",
    "- business problem identification\n",
    "- creation and validation of hypotheses\n",
    "- data cleaning and attribute engineering if necessary\n",
    "- feature selection\n",
    "- testing machine learning models with cross validation\n",
    "- hyperparameters\n",
    "- metrics\n",
    "\n",
    "---main points of the project report---\n",
    "\n",
    "- model in production, which will receive a customer base via API and will return this same “scored” base, that is, an extra column with the probability of each customer churn.\n",
    "\n",
    "1. What is TopBank's current Churn rate?\n",
    "2. What is the model's performance in classifying customers as **churns**?\n",
    "3. What is the expected return, in terms of revenue, if the company uses its model to avoid **churn** from customers?"
   ]
  },
  {
   "cell_type": "code",
   "execution_count": 1,
   "id": "173ea550",
   "metadata": {},
   "outputs": [],
   "source": [
    "#Imports\n",
    "\n",
    "import pandas as pd\n",
    "import numpy as np\n",
    "\n",
    "import matplotlib.pyplot as plt\n",
    "import seaborn as sn\n",
    "\n",
    "#dataset split\n",
    "from sklearn.model_selection import train_test_split\n",
    "\n",
    "#PREPROCESSING THE DATA\n",
    "from sklearn.preprocessing import LabelEncoder\n",
    "\n",
    "#balancing the dataset\n",
    "from imblearn.over_sampling import SMOTE\n",
    "\n",
    "#ml models\n",
    "from sklearn.neighbors import KNeighborsClassifier\n",
    "from sklearn.tree import DecisionTreeClassifier\n",
    "from sklearn.naive_bayes import GaussianNB\n",
    "from sklearn.linear_model import LogisticRegression\n",
    "from sklearn.naive_bayes import GaussianNB\n",
    "from sklearn.linear_model import SGDClassifier\n",
    "from sklearn.ensemble import RandomForestClassifier\n",
    "\n",
    "#hyper_parameters\n",
    "from sklearn.model_selection import GridSearchCV\n",
    "\n",
    "#cross_val_score\n",
    "from sklearn.model_selection import cross_val_score\n",
    "\n",
    "#metrics\n",
    "from sklearn.metrics import accuracy_score\n",
    "from sklearn.metrics import f1_score\n",
    "from sklearn.metrics import classification_report\n",
    "\n",
    "import pickle as pk\n",
    "\n",
    "\n",
    "#api\n",
    "import requests"
   ]
  },
  {
   "cell_type": "code",
   "execution_count": 2,
   "id": "4404ba77",
   "metadata": {},
   "outputs": [
    {
     "data": {
      "text/html": [
       "<div>\n",
       "<style scoped>\n",
       "    .dataframe tbody tr th:only-of-type {\n",
       "        vertical-align: middle;\n",
       "    }\n",
       "\n",
       "    .dataframe tbody tr th {\n",
       "        vertical-align: top;\n",
       "    }\n",
       "\n",
       "    .dataframe thead th {\n",
       "        text-align: right;\n",
       "    }\n",
       "</style>\n",
       "<table border=\"1\" class=\"dataframe\">\n",
       "  <thead>\n",
       "    <tr style=\"text-align: right;\">\n",
       "      <th></th>\n",
       "      <th>RowNumber</th>\n",
       "      <th>CustomerId</th>\n",
       "      <th>Surname</th>\n",
       "      <th>CreditScore</th>\n",
       "      <th>Geography</th>\n",
       "      <th>Gender</th>\n",
       "      <th>Age</th>\n",
       "      <th>Tenure</th>\n",
       "      <th>Balance</th>\n",
       "      <th>NumOfProducts</th>\n",
       "      <th>HasCrCard</th>\n",
       "      <th>IsActiveMember</th>\n",
       "      <th>EstimatedSalary</th>\n",
       "      <th>Exited</th>\n",
       "    </tr>\n",
       "  </thead>\n",
       "  <tbody>\n",
       "    <tr>\n",
       "      <th>0</th>\n",
       "      <td>1</td>\n",
       "      <td>15634602</td>\n",
       "      <td>Hargrave</td>\n",
       "      <td>619</td>\n",
       "      <td>France</td>\n",
       "      <td>Female</td>\n",
       "      <td>42</td>\n",
       "      <td>2</td>\n",
       "      <td>0.00</td>\n",
       "      <td>1</td>\n",
       "      <td>1</td>\n",
       "      <td>1</td>\n",
       "      <td>101348.88</td>\n",
       "      <td>1</td>\n",
       "    </tr>\n",
       "    <tr>\n",
       "      <th>1</th>\n",
       "      <td>2</td>\n",
       "      <td>15647311</td>\n",
       "      <td>Hill</td>\n",
       "      <td>608</td>\n",
       "      <td>Spain</td>\n",
       "      <td>Female</td>\n",
       "      <td>41</td>\n",
       "      <td>1</td>\n",
       "      <td>83807.86</td>\n",
       "      <td>1</td>\n",
       "      <td>0</td>\n",
       "      <td>1</td>\n",
       "      <td>112542.58</td>\n",
       "      <td>0</td>\n",
       "    </tr>\n",
       "    <tr>\n",
       "      <th>2</th>\n",
       "      <td>3</td>\n",
       "      <td>15619304</td>\n",
       "      <td>Onio</td>\n",
       "      <td>502</td>\n",
       "      <td>France</td>\n",
       "      <td>Female</td>\n",
       "      <td>42</td>\n",
       "      <td>8</td>\n",
       "      <td>159660.80</td>\n",
       "      <td>3</td>\n",
       "      <td>1</td>\n",
       "      <td>0</td>\n",
       "      <td>113931.57</td>\n",
       "      <td>1</td>\n",
       "    </tr>\n",
       "    <tr>\n",
       "      <th>3</th>\n",
       "      <td>4</td>\n",
       "      <td>15701354</td>\n",
       "      <td>Boni</td>\n",
       "      <td>699</td>\n",
       "      <td>France</td>\n",
       "      <td>Female</td>\n",
       "      <td>39</td>\n",
       "      <td>1</td>\n",
       "      <td>0.00</td>\n",
       "      <td>2</td>\n",
       "      <td>0</td>\n",
       "      <td>0</td>\n",
       "      <td>93826.63</td>\n",
       "      <td>0</td>\n",
       "    </tr>\n",
       "    <tr>\n",
       "      <th>4</th>\n",
       "      <td>5</td>\n",
       "      <td>15737888</td>\n",
       "      <td>Mitchell</td>\n",
       "      <td>850</td>\n",
       "      <td>Spain</td>\n",
       "      <td>Female</td>\n",
       "      <td>43</td>\n",
       "      <td>2</td>\n",
       "      <td>125510.82</td>\n",
       "      <td>1</td>\n",
       "      <td>1</td>\n",
       "      <td>1</td>\n",
       "      <td>79084.10</td>\n",
       "      <td>0</td>\n",
       "    </tr>\n",
       "  </tbody>\n",
       "</table>\n",
       "</div>"
      ],
      "text/plain": [
       "   RowNumber  CustomerId   Surname  CreditScore Geography  Gender  Age  \\\n",
       "0          1    15634602  Hargrave          619    France  Female   42   \n",
       "1          2    15647311      Hill          608     Spain  Female   41   \n",
       "2          3    15619304      Onio          502    France  Female   42   \n",
       "3          4    15701354      Boni          699    France  Female   39   \n",
       "4          5    15737888  Mitchell          850     Spain  Female   43   \n",
       "\n",
       "   Tenure    Balance  NumOfProducts  HasCrCard  IsActiveMember  \\\n",
       "0       2       0.00              1          1               1   \n",
       "1       1   83807.86              1          0               1   \n",
       "2       8  159660.80              3          1               0   \n",
       "3       1       0.00              2          0               0   \n",
       "4       2  125510.82              1          1               1   \n",
       "\n",
       "   EstimatedSalary  Exited  \n",
       "0        101348.88       1  \n",
       "1        112542.58       0  \n",
       "2        113931.57       1  \n",
       "3         93826.63       0  \n",
       "4         79084.10       0  "
      ]
     },
     "execution_count": 2,
     "metadata": {},
     "output_type": "execute_result"
    }
   ],
   "source": [
    "#PATH TO THE FILE\n",
    "path = 'churn.csv'\n",
    "\n",
    "#LOAD DATA\n",
    "data = pd.read_csv(path)\n",
    "data.head()"
   ]
  },
  {
   "cell_type": "code",
   "execution_count": 3,
   "id": "c6283bdc",
   "metadata": {},
   "outputs": [
    {
     "name": "stdout",
     "output_type": "stream",
     "text": [
      "<class 'pandas.core.frame.DataFrame'>\n",
      "RangeIndex: 10000 entries, 0 to 9999\n",
      "Data columns (total 14 columns):\n",
      " #   Column           Non-Null Count  Dtype  \n",
      "---  ------           --------------  -----  \n",
      " 0   RowNumber        10000 non-null  int64  \n",
      " 1   CustomerId       10000 non-null  int64  \n",
      " 2   Surname          10000 non-null  object \n",
      " 3   CreditScore      10000 non-null  int64  \n",
      " 4   Geography        10000 non-null  object \n",
      " 5   Gender           10000 non-null  object \n",
      " 6   Age              10000 non-null  int64  \n",
      " 7   Tenure           10000 non-null  int64  \n",
      " 8   Balance          10000 non-null  float64\n",
      " 9   NumOfProducts    10000 non-null  int64  \n",
      " 10  HasCrCard        10000 non-null  int64  \n",
      " 11  IsActiveMember   10000 non-null  int64  \n",
      " 12  EstimatedSalary  10000 non-null  float64\n",
      " 13  Exited           10000 non-null  int64  \n",
      "dtypes: float64(2), int64(9), object(3)\n",
      "memory usage: 1.1+ MB\n"
     ]
    }
   ],
   "source": [
    "#DATA INFO\n",
    "data.info()"
   ]
  },
  {
   "cell_type": "markdown",
   "id": "cf77d9d2",
   "metadata": {},
   "source": [
    "***DATA CLEANING***"
   ]
  },
  {
   "cell_type": "code",
   "execution_count": 4,
   "id": "e0562c98",
   "metadata": {},
   "outputs": [
    {
     "name": "stdout",
     "output_type": "stream",
     "text": [
      "missing values\n",
      "RowNumber          0\n",
      "CustomerId         0\n",
      "Surname            0\n",
      "CreditScore        0\n",
      "Geography          0\n",
      "Gender             0\n",
      "Age                0\n",
      "Tenure             0\n",
      "Balance            0\n",
      "NumOfProducts      0\n",
      "HasCrCard          0\n",
      "IsActiveMember     0\n",
      "EstimatedSalary    0\n",
      "Exited             0\n",
      "dtype: int64\n",
      "*****************\n",
      "duplicated rows\n",
      "0\n"
     ]
    }
   ],
   "source": [
    "#LOOKING FOR NAN VALUES\n",
    "print('missing values')\n",
    "print(data.isna().sum())\n",
    "print(\"*****************\")\n",
    "\n",
    "#LOOKING FOR DUPLICATED ROWS\n",
    "print('duplicated rows')\n",
    "print(data.duplicated().sum())"
   ]
  },
  {
   "cell_type": "code",
   "execution_count": null,
   "id": "c22ace2d",
   "metadata": {},
   "outputs": [],
   "source": []
  },
  {
   "cell_type": "code",
   "execution_count": null,
   "id": "fe4d8fb2",
   "metadata": {},
   "outputs": [],
   "source": []
  },
  {
   "cell_type": "markdown",
   "id": "e83a82b6",
   "metadata": {},
   "source": [
    "***HYPOTESIS VALIDATION AND DATA EXPLORATION***"
   ]
  },
  {
   "cell_type": "raw",
   "id": "9b8ef121",
   "metadata": {},
   "source": [
    "#VALIDATION OF HYPOTESIS\n",
    "1 - 30 % of the customers under 28 years are more likely to be a churn\n",
    "2 - 46 % of custumers than have a Credit Score less than 50% of the mean are more likely to be a churn\n",
    "3 - 25 % of customers than have at least two product are less likely to be a churn\n",
    "4 - 45 % of customers than have the Estimated Salary more than 60% of the mean are note likely to be churn\n",
    "5 -  less than 15 % of the customers are churn"
   ]
  },
  {
   "cell_type": "markdown",
   "id": "63a10d11",
   "metadata": {},
   "source": [
    "***1 - 30 % of the customers under 28 years are more likely to be a churn*** False, just 7% are more likely to be a churn"
   ]
  },
  {
   "cell_type": "code",
   "execution_count": 7,
   "id": "28fd2d9f",
   "metadata": {},
   "outputs": [
    {
     "name": "stdout",
     "output_type": "stream",
     "text": [
      "0    0.928431\n",
      "1    0.071569\n",
      "Name: Exited, dtype: float64\n"
     ]
    },
    {
     "data": {
      "image/png": "[encoded data removed]",
      "text/plain": [
       "<Figure size 720x360 with 1 Axes>"
      ]
     },
     "metadata": {
      "needs_background": "light"
     },
     "output_type": "display_data"
    }
   ],
   "source": [
    "filter_age = data[(data['Age']<28)]\n",
    "print(filter_age.Exited.value_counts(normalize=True))\n",
    "\n",
    "#graph\n",
    "plt.figure(figsize=(10,5))\n",
    "plt.title('sample space :customers under 28 years')\n",
    "sn.distplot(filter_age.Exited,kde=False)\n",
    "plt.grid()"
   ]
  },
  {
   "cell_type": "markdown",
   "id": "8db6ed18",
   "metadata": {},
   "source": [
    "***2 - 46 % of custumers than have a Credit Score less than 50% of the mean are more likely to be a churn***False, just 21% are more likely to be a churn"
   ]
  },
  {
   "cell_type": "code",
   "execution_count": 8,
   "id": "b45ed2e6",
   "metadata": {},
   "outputs": [
    {
     "name": "stdout",
     "output_type": "stream",
     "text": [
      "0    0.785902\n",
      "1    0.214098\n",
      "Name: Exited, dtype: float64\n"
     ]
    },
    {
     "data": {
      "image/png": "[encoded data removed]",
      "text/plain": [
       "<Figure size 720x360 with 1 Axes>"
      ]
     },
     "metadata": {
      "needs_background": "light"
     },
     "output_type": "display_data"
    }
   ],
   "source": [
    "#mean of the Credit score\n",
    "Credit_score_mean = data.CreditScore.mean()\n",
    "filter_Credit_score = data[(data.CreditScore < Credit_score_mean)]\n",
    "print(filter_Credit_score.Exited.value_counts(normalize=True))\n",
    "\n",
    "#graph\n",
    "plt.figure(figsize=(10,5))\n",
    "plt.title('sample space: custumers than have a credit score less than 50% of the mean')\n",
    "sn.distplot(filter_Credit_score.Exited,kde=False)\n",
    "plt.grid()"
   ]
  },
  {
   "cell_type": "markdown",
   "id": "6ce517e1",
   "metadata": {},
   "source": [
    "***3 - more than 25 % of customers that have at least two product are less likely to be a churn***True, if they have at least 2 products they are 81% less likely to be a churn"
   ]
  },
  {
   "cell_type": "code",
   "execution_count": 9,
   "id": "58f5a284",
   "metadata": {},
   "outputs": [
    {
     "name": "stdout",
     "output_type": "stream",
     "text": [
      "0    0.818379\n",
      "1    0.181621\n",
      "Name: Exited, dtype: float64\n"
     ]
    },
    {
     "data": {
      "image/png": "[encoded data removed]",
      "text/plain": [
       "<Figure size 720x360 with 1 Axes>"
      ]
     },
     "metadata": {
      "needs_background": "light"
     },
     "output_type": "display_data"
    }
   ],
   "source": [
    "filter_number_products = data[(data.NumOfProducts<=2)]\n",
    "print(filter_number_products.Exited.value_counts(normalize=True))\n",
    "\n",
    "#graph\n",
    "plt.figure(figsize=(10,5))\n",
    "plt.title('sample space: customers that have at least two product')\n",
    "sn.distplot(filter_number_products.Exited,kde=False)\n",
    "plt.grid()"
   ]
  },
  {
   "cell_type": "markdown",
   "id": "985e1ab1",
   "metadata": {},
   "source": [
    "***4 - 45 % of customers than have the Estimated Salary more than 60% of the mean are note likely to be churn***True, if they has more than 60% of salary are not likely they will churn"
   ]
  },
  {
   "cell_type": "code",
   "execution_count": 10,
   "id": "81821264",
   "metadata": {},
   "outputs": [
    {
     "name": "stdout",
     "output_type": "stream",
     "text": [
      "0    0.783593\n",
      "1    0.216407\n",
      "Name: Exited, dtype: float64\n"
     ]
    },
    {
     "data": {
      "image/png": "[encoded data removed]",
      "text/plain": [
       "<Figure size 720x360 with 1 Axes>"
      ]
     },
     "metadata": {
      "needs_background": "light"
     },
     "output_type": "display_data"
    }
   ],
   "source": [
    "#more than 60% of the mean\n",
    "more_than_60 = (data.EstimatedSalary.mean()+data.EstimatedSalary.mean()*0.6)\n",
    "filter_estimated_salary = data[(data.EstimatedSalary>more_than_60)]\n",
    "print(filter_estimated_salary.Exited.value_counts(normalize=True))\n",
    "\n",
    "#graph\n",
    "plt.figure(figsize=(10,5))\n",
    "plt.title('sample space: customers than have the estimated salary more than 60% of the mean')\n",
    "sn.distplot(filter_estimated_salary.Exited,kde=False)\n",
    "plt.grid()"
   ]
  },
  {
   "cell_type": "markdown",
   "id": "82072454",
   "metadata": {},
   "source": [
    "***5 -  less than 15 % of the customers are churn***False, more than 20% of the custumers are a churn"
   ]
  },
  {
   "cell_type": "code",
   "execution_count": 11,
   "id": "70d8bf0d",
   "metadata": {},
   "outputs": [
    {
     "name": "stdout",
     "output_type": "stream",
     "text": [
      "0    0.7963\n",
      "1    0.2037\n",
      "Name: Exited, dtype: float64\n"
     ]
    },
    {
     "data": {
      "image/png": "[encoded data removed]",
      "text/plain": [
       "<Figure size 720x360 with 1 Axes>"
      ]
     },
     "metadata": {
      "needs_background": "light"
     },
     "output_type": "display_data"
    }
   ],
   "source": [
    "print(data.Exited.value_counts(normalize=True))\n",
    "\n",
    "#graph\n",
    "plt.figure(figsize=(10,5))\n",
    "plt.title('sample space: customers that are a churn')\n",
    "sn.distplot(data.Exited,kde=False)\n",
    "plt.grid()"
   ]
  },
  {
   "cell_type": "markdown",
   "id": "e8d69be6",
   "metadata": {},
   "source": [
    " ***What is TopBank's current Churn rate?***"
   ]
  },
  {
   "cell_type": "code",
   "execution_count": 12,
   "id": "5e2f29de",
   "metadata": {},
   "outputs": [
    {
     "name": "stdout",
     "output_type": "stream",
     "text": [
      "0    0.7963\n",
      "1    0.2037\n",
      "Name: Exited, dtype: float64\n"
     ]
    },
    {
     "data": {
      "image/png": "[encoded data removed]",
      "text/plain": [
       "<Figure size 720x360 with 1 Axes>"
      ]
     },
     "metadata": {
      "needs_background": "light"
     },
     "output_type": "display_data"
    }
   ],
   "source": [
    "print(data.Exited.value_counts(normalize=True))\n",
    "#graph\n",
    "plt.figure(figsize=(10,5))\n",
    "sn.distplot(data.Exited,kde=False)\n",
    "plt.grid()"
   ]
  },
  {
   "cell_type": "code",
   "execution_count": 68,
   "id": "51acaad2",
   "metadata": {},
   "outputs": [
    {
     "data": {
      "image/png": "[encoded data removed]",
      "text/plain": [
       "<Figure size 720x360 with 2 Axes>"
      ]
     },
     "metadata": {
      "needs_background": "light"
     },
     "output_type": "display_data"
    }
   ],
   "source": [
    "#CORRELATIONSHIP GRAPH\n",
    "plt.figure(figsize=(10,5))\n",
    "sn.heatmap(data.corr(),cmap='PiYG',annot=True)\n",
    "plt.show()"
   ]
  },
  {
   "cell_type": "code",
   "execution_count": 69,
   "id": "6aaddceb",
   "metadata": {},
   "outputs": [
    {
     "data": {
      "image/png": "[encoded data removed]",
      "text/plain": [
       "<Figure size 720x360 with 1 Axes>"
      ]
     },
     "metadata": {
      "needs_background": "light"
     },
     "output_type": "display_data"
    },
    {
     "data": {
      "image/png": "[encoded data removed]",
      "text/plain": [
       "<Figure size 720x360 with 1 Axes>"
      ]
     },
     "metadata": {
      "needs_background": "light"
     },
     "output_type": "display_data"
    }
   ],
   "source": [
    "#DISTRIBUTION WITH THE VARIABLES THAT MOST CORRELATE WITH CUSTOMER CHURN\n",
    "\n",
    "# Age - Balance\n",
    "plt.figure(figsize=(10,5))\n",
    "plt.scatter(data['Age'],data['Exited'])\n",
    "plt.title('Age - Exited')\n",
    "plt.xlabel('Age')\n",
    "plt.ylabel('Exited')\n",
    "plt.show()\n",
    "\n",
    "plt.figure(figsize=(10,5))\n",
    "plt.scatter(data['Balance'],data['Exited'])\n",
    "plt.title('Balance - Exited')\n",
    "plt.xlabel('Balance')\n",
    "plt.ylabel('Exited')\n",
    "\n",
    "plt.show()\n"
   ]
  },
  {
   "cell_type": "markdown",
   "id": "744c6941",
   "metadata": {},
   "source": [
    "***DATA PREPARATION***"
   ]
  },
  {
   "cell_type": "code",
   "execution_count": 14,
   "id": "6bfa08a3",
   "metadata": {},
   "outputs": [],
   "source": [
    "#FUNCTION TO DELETE COLUMNS ARE USEFUL AND POSSIBLE PRE PROCESSING\n",
    "def data_preparation(data):\n",
    "    data = data.drop(['RowNumber','CustomerId','Surname'],axis=1)\n",
    "    return data"
   ]
  },
  {
   "cell_type": "code",
   "execution_count": 15,
   "id": "8532ac47",
   "metadata": {},
   "outputs": [],
   "source": [
    "#USING THE DATA_PREPARATION FUNCTION\n",
    "data = data_preparation(data)\n",
    "\n",
    "#BINARINZING SOME CATEGORICAL COLUMNS -- INSTANTING THE PREPROCESSING CLASS\n",
    "LE = LabelEncoder()\n",
    "\n",
    "#METHOD FIT_TRANSFORM TO BINARIZING\n",
    "data['Gender'] = LE.fit_transform(data['Gender'])\n",
    "data['Geography'] = LE.fit_transform(data['Geography'])\n",
    "\n",
    "#DROP THE TARGET COLUMN\n",
    "x = data.drop('Exited',axis=1)\n",
    "y = data['Exited']\n",
    "\n",
    "\n",
    "#BALANCING THE DATASET USING THE TARGET COLUMN AS A REFERENCE - INSTANTING THE BALANCING CLASS\n",
    "over_sampling = SMOTE()\n",
    "\n",
    "x_dummies,y_dummies = over_sampling.fit_resample(x,y)"
   ]
  },
  {
   "cell_type": "code",
   "execution_count": 16,
   "id": "247682b9",
   "metadata": {},
   "outputs": [
    {
     "name": "stdout",
     "output_type": "stream",
     "text": [
      "(15926, 10)\n",
      "(15926,)\n"
     ]
    }
   ],
   "source": [
    "#COUNT\n",
    "print(x_dummies.shape)\n",
    "print(y_dummies.shape)"
   ]
  },
  {
   "cell_type": "code",
   "execution_count": 17,
   "id": "45c79faf",
   "metadata": {},
   "outputs": [],
   "source": [
    "###################################################################################"
   ]
  },
  {
   "cell_type": "code",
   "execution_count": 18,
   "id": "df6cfb17",
   "metadata": {},
   "outputs": [
    {
     "name": "stdout",
     "output_type": "stream",
     "text": [
      "KNeighborsClassifier() score: 0.6881203380961249\n",
      "DecisionTreeClassifier() score: 0.7870822603994517\n",
      "GaussianNB() score: 0.720647455853267\n",
      "LogisticRegression() score: 0.6742443638327416\n",
      "GaussianNB() score: 0.720647455853267\n",
      "SGDClassifier() score: 0.48517883873816076\n",
      "RandomForestClassifier() score: 0.858099377082428\n"
     ]
    }
   ],
   "source": [
    "#TRAINING AND TESTING THE MODEL WITH CROSS VALIDATION TO SEE WHICH IS THE BEST ONE\n",
    "Models = []\n",
    "Scores = []\n",
    "knc = KNeighborsClassifier(n_neighbors=5)\n",
    "dtc = DecisionTreeClassifier()\n",
    "gs = GaussianNB()\n",
    "clf = LogisticRegression()\n",
    "gnb = GaussianNB()\n",
    "scf = SGDClassifier()\n",
    "rfc = RandomForestClassifier()\n",
    "\n",
    "models = [knc,dtc,gs,clf,gnb,scf,rfc]\n",
    "\n",
    "for model in models:\n",
    "    score = cross_val_score(model,x_dummies,y_dummies)\n",
    "    print('{} score: {}'.format(model, score.mean()))\n",
    "    Models.append(model)\n",
    "    Scores.append(score.mean())"
   ]
  },
  {
   "cell_type": "code",
   "execution_count": null,
   "id": "01fbe2f5",
   "metadata": {},
   "outputs": [],
   "source": []
  },
  {
   "cell_type": "code",
   "execution_count": 19,
   "id": "59ebae43",
   "metadata": {},
   "outputs": [],
   "source": [
    "#DICTIONARY WITH THE MODEL AND THEIR SCORES\n",
    "Models_score = {'KNeighborsClassifier':0.68,'DecisionTreeClassifier':0.78,'GaussianNB':0.71,'LogisticRegression':0.67\n",
    "               ,'GaussianNB':0.71,'SGDClassifier':0.51,'RandomForestClassifier':0.85}"
   ]
  },
  {
   "cell_type": "markdown",
   "id": "a2cb2843",
   "metadata": {},
   "source": [
    "***MODEL PERFORMANCE GRAPH***"
   ]
  },
  {
   "cell_type": "code",
   "execution_count": 20,
   "id": "d6247aa6",
   "metadata": {},
   "outputs": [
    {
     "data": {
      "image/png": "[encoded data removed]",
      "text/plain": [
       "<Figure size 720x360 with 1 Axes>"
      ]
     },
     "metadata": {
      "needs_background": "light"
     },
     "output_type": "display_data"
    }
   ],
   "source": [
    "#GRAPH WITH THE SCORE OF THE MODELS\n",
    "plt.figure(figsize=(10,5))\n",
    "plt.bar(Models_score.keys(),Models_score.values())\n",
    "plt.xticks(rotation=60)\n",
    "plt.grid()\n",
    "plt.show()"
   ]
  },
  {
   "cell_type": "code",
   "execution_count": 16,
   "id": "327e2666",
   "metadata": {},
   "outputs": [
    {
     "name": "stdout",
     "output_type": "stream",
     "text": [
      "{'criterion': 'entropy', 'max_features': 'auto', 'n_estimators': 300}\n"
     ]
    }
   ],
   "source": [
    "#FIGURING OUT THE BEST PARAMETERS OF THE BEST MODEL\n",
    "parameters = {'n_estimators':[100,200,300,400],'criterion':['gini', 'entropy'],'max_features':['auto', 'sqrt', 'log2']}\n",
    "\n",
    "#BEST MODEL\n",
    "rfc = RandomForestClassifier()\n",
    "\n",
    "#SEARCH GRID DEFINITION\n",
    "clf = GridSearchCV(rfc, parameters)\n",
    "clf.fit(x_dummies,y_dummies)\n",
    "print(clf.best_params_)"
   ]
  },
  {
   "cell_type": "code",
   "execution_count": null,
   "id": "27043a04",
   "metadata": {},
   "outputs": [],
   "source": []
  },
  {
   "cell_type": "code",
   "execution_count": null,
   "id": "5dceced4",
   "metadata": {},
   "outputs": [],
   "source": [
    "######################################################################################"
   ]
  },
  {
   "cell_type": "markdown",
   "id": "3c5e10c2",
   "metadata": {},
   "source": [
    "***ML MODELS AND HYPERPARAMETERS***"
   ]
  },
  {
   "cell_type": "code",
   "execution_count": 27,
   "id": "ddf0dac9",
   "metadata": {},
   "outputs": [],
   "source": [
    "#--0BEST MODEL - RandomForestClassifier \n",
    "\n",
    "#--BEST PARAMETERS -{'criterion': 'entropy', 'max_features': 'auto', 'n_estimators': 300}"
   ]
  },
  {
   "cell_type": "code",
   "execution_count": 17,
   "id": "edbabea2",
   "metadata": {},
   "outputs": [
    {
     "name": "stdout",
     "output_type": "stream",
     "text": [
      "RandomForestClassifier(criterion='entropy', n_estimators=300) score: 0.8542693357221202\n"
     ]
    }
   ],
   "source": [
    "#TESTING THE HYPERPARAMETERS\n",
    "rfc = RandomForestClassifier(criterion='entropy',max_features= 'auto',n_estimators= 300)\n",
    "\n",
    "score = cross_val_score(rfc,x_dummies,y_dummies)\n",
    "print('{} score: {}'.format(rfc, score.mean()))"
   ]
  },
  {
   "cell_type": "markdown",
   "id": "682df4f5",
   "metadata": {},
   "source": [
    "***MODEL PERFORMANCE***"
   ]
  },
  {
   "cell_type": "code",
   "execution_count": 19,
   "id": "324d8613",
   "metadata": {},
   "outputs": [],
   "source": [
    "x_train,x_test,y_train,y_test = train_test_split(x_dummies,y_dummies,test_size=0.2,random_state=42)"
   ]
  },
  {
   "cell_type": "code",
   "execution_count": 20,
   "id": "7d5767f1",
   "metadata": {},
   "outputs": [
    {
     "name": "stdout",
     "output_type": "stream",
     "text": [
      "              precision    recall  f1-score   support\n",
      "\n",
      "    NO CHURN       0.88      0.85      0.86      1633\n",
      "       CHURN       0.85      0.87      0.86      1553\n",
      "\n",
      "    accuracy                           0.86      3186\n",
      "   macro avg       0.86      0.86      0.86      3186\n",
      "weighted avg       0.86      0.86      0.86      3186\n",
      "\n"
     ]
    }
   ],
   "source": [
    "#TRAIN\n",
    "rfc.fit(x_train,y_train)\n",
    "\n",
    "#PREDICT\n",
    "pred = rfc.predict(x_test)\n",
    "\n",
    "#CLASSIFICATION REPORT\n",
    "print(classification_report(y_test,pred,target_names=['NO CHURN','CHURN']))"
   ]
  },
  {
   "cell_type": "code",
   "execution_count": null,
   "id": "8f31f1a7",
   "metadata": {},
   "outputs": [],
   "source": []
  },
  {
   "cell_type": "code",
   "execution_count": null,
   "id": "74081b3b",
   "metadata": {},
   "outputs": [],
   "source": []
  },
  {
   "cell_type": "code",
   "execution_count": 21,
   "id": "8e13fa4c",
   "metadata": {},
   "outputs": [],
   "source": [
    "#TRAINING THE MODEL TO PUT IN THE PKL FILE\n",
    "model = rfc.fit(x_dummies,y_dummies)\n",
    "\n",
    "#PATH TO SAVE THE PKL FILE ------take\n",
    "\n",
    "#SAVING THE MODEL ----------take\n",
    "pk.dump(model, open('model.pkl','wb'))\n"
   ]
  },
  {
   "cell_type": "code",
   "execution_count": null,
   "id": "2c35955c",
   "metadata": {},
   "outputs": [],
   "source": []
  },
  {
   "cell_type": "markdown",
   "id": "5f292d2f",
   "metadata": {},
   "source": [
    "***API ACCESS***"
   ]
  },
  {
   "cell_type": "code",
   "execution_count": 107,
   "id": "db0f743d",
   "metadata": {},
   "outputs": [],
   "source": [
    "#IMPUT THE ORIGINAL DATA\n",
    "path = 'churn.csv'\n",
    "data = pd.read_csv(path)\n",
    "\n",
    "#DROP THE EXIET COLUMN\n",
    "data.drop('Exited',axis=1,inplace=True)\n",
    "\n",
    "#CONVERT TO JSON\n",
    "df_json = data.sample().to_json(orient='records')"
   ]
  },
  {
   "cell_type": "code",
   "execution_count": 108,
   "id": "60c56641",
   "metadata": {},
   "outputs": [
    {
     "data": {
      "text/plain": [
       "'[{\"RowNumber\":1136,\"CustomerId\":15656121,\"Surname\":\"Medvedeva\",\"CreditScore\":733,\"Geography\":\"Germany\",\"Gender\":\"Male\",\"Age\":31,\"Tenure\":6,\"Balance\":157791.07,\"NumOfProducts\":2,\"HasCrCard\":0,\"IsActiveMember\":0,\"EstimatedSalary\":177994.81}]'"
      ]
     },
     "execution_count": 108,
     "metadata": {},
     "output_type": "execute_result"
    }
   ],
   "source": [
    "df_json"
   ]
  },
  {
   "cell_type": "code",
   "execution_count": null,
   "id": "2e789d91",
   "metadata": {},
   "outputs": [],
   "source": []
  },
  {
   "cell_type": "code",
   "execution_count": 109,
   "id": "107af10c",
   "metadata": {},
   "outputs": [],
   "source": [
    "#MAKING A REQUEST - HAVE TO RUN THE API BEFORE OF EXECUTING THIS LINE OF CODE\n",
    "\n",
    "#-- METHOD POST TO SEND DATA TO THE MODEL IN PRODUCTION\n",
    "url = 'http://your ip address:5000/predict'\n",
    "data = df_json\n",
    "header = {'Content-type':'application/json'}\n",
    "\n",
    "r = requests.post(url = url,data=data,headers = header)"
   ]
  },
  {
   "cell_type": "code",
   "execution_count": 110,
   "id": "f99e84de",
   "metadata": {},
   "outputs": [],
   "source": [
    "result = pd.DataFrame(r.json())"
   ]
  },
  {
   "cell_type": "code",
   "execution_count": 111,
   "id": "64bad3af",
   "metadata": {},
   "outputs": [
    {
     "data": {
      "text/html": [
       "<div>\n",
       "<style scoped>\n",
       "    .dataframe tbody tr th:only-of-type {\n",
       "        vertical-align: middle;\n",
       "    }\n",
       "\n",
       "    .dataframe tbody tr th {\n",
       "        vertical-align: top;\n",
       "    }\n",
       "\n",
       "    .dataframe thead th {\n",
       "        text-align: right;\n",
       "    }\n",
       "</style>\n",
       "<table border=\"1\" class=\"dataframe\">\n",
       "  <thead>\n",
       "    <tr style=\"text-align: right;\">\n",
       "      <th></th>\n",
       "      <th>CreditScore</th>\n",
       "      <th>Geography</th>\n",
       "      <th>Gender</th>\n",
       "      <th>Age</th>\n",
       "      <th>Tenure</th>\n",
       "      <th>Balance</th>\n",
       "      <th>NumOfProducts</th>\n",
       "      <th>HasCrCard</th>\n",
       "      <th>IsActiveMember</th>\n",
       "      <th>EstimatedSalary</th>\n",
       "      <th>prediction</th>\n",
       "      <th>churn probability</th>\n",
       "    </tr>\n",
       "  </thead>\n",
       "  <tbody>\n",
       "    <tr>\n",
       "      <th>0</th>\n",
       "      <td>733</td>\n",
       "      <td>0</td>\n",
       "      <td>0</td>\n",
       "      <td>31</td>\n",
       "      <td>6</td>\n",
       "      <td>157791.07</td>\n",
       "      <td>2</td>\n",
       "      <td>0</td>\n",
       "      <td>0</td>\n",
       "      <td>177994.81</td>\n",
       "      <td>1</td>\n",
       "      <td>0.546667</td>\n",
       "    </tr>\n",
       "  </tbody>\n",
       "</table>\n",
       "</div>"
      ],
      "text/plain": [
       "   CreditScore  Geography  Gender  Age  Tenure    Balance  NumOfProducts  \\\n",
       "0          733          0       0   31       6  157791.07              2   \n",
       "\n",
       "   HasCrCard  IsActiveMember  EstimatedSalary  prediction  churn probability  \n",
       "0          0               0        177994.81           1           0.546667  "
      ]
     },
     "execution_count": 111,
     "metadata": {},
     "output_type": "execute_result"
    }
   ],
   "source": [
    "result"
   ]
  },
  {
   "cell_type": "markdown",
   "id": "fb8754b2",
   "metadata": {},
   "source": [
    "***MONEY***"
   ]
  },
  {
   "cell_type": "code",
   "execution_count": 77,
   "id": "d6649ea8",
   "metadata": {},
   "outputs": [],
   "source": [
    "#VALUES THAT BANKS ACHIEVE ANNUALLY BASED ON THE SALARY OF CUSTOMERS THAT BECAME CHURN\n",
    "\n",
    "#-- SALARIES HIGHER THAN AVERAGE HAVE 20% ANNUAL RATE ON SALARY VALUES\n",
    "salary_deduction20 = data[(data.EstimatedSalary > data.EstimatedSalary.mean()) & data.Exited==1]\n",
    "\n",
    "#-- SALARIES LOWER THAN THE MEDIA HAS 15% ANNUAL RATE ON SALARY VALUES\n",
    "salary_deduction15 = data[(data.EstimatedSalary < data.EstimatedSalary.mean()) & data.Exited==1]"
   ]
  },
  {
   "cell_type": "code",
   "execution_count": null,
   "id": "cd041495",
   "metadata": {},
   "outputs": [],
   "source": []
  },
  {
   "cell_type": "code",
   "execution_count": 83,
   "id": "56a3abf4",
   "metadata": {},
   "outputs": [
    {
     "name": "stdout",
     "output_type": "stream",
     "text": [
      "NUMBER OF CUSTOMERS WITH SALARIES HIGHER THAN AVERAGE:  1042\n",
      "NUMBER OF CUSTOMERS WITH SALARIES LESS THAN AVERAGE:  995\n"
     ]
    }
   ],
   "source": [
    "print('NUMBER OF CUSTOMERS WITH SALARIES HIGHER THAN AVERAGE: ',len(salary_deduction20))\n",
    "print('NUMBER OF CUSTOMERS WITH SALARIES LESS THAN AVERAGE: ',len(salary_deduction15))"
   ]
  },
  {
   "cell_type": "code",
   "execution_count": 79,
   "id": "a2abaf7b",
   "metadata": {},
   "outputs": [
    {
     "name": "stdout",
     "output_type": "stream",
     "text": [
      "sum 20%: 31373947.456\n",
      "sum 15%: 7472377.177499998\n",
      "total: 38846324.633499995\n"
     ]
    }
   ],
   "source": [
    "#20% of sums of all salaries of clients who have churn\n",
    "#that is, how much the company lost with the churns\n",
    "\n",
    "sum20 = (20*salary_deduction20['EstimatedSalary'].sum())/100\n",
    "\n",
    "#15% of sums of all salaries of clients who have churn\n",
    "\n",
    "sum15 = (15*salary_deduction15['EstimatedSalary'].sum())/100\n",
    "\n",
    "print('sum 20%:',sum20)\n",
    "print('sum 15%:',sum15)\n",
    "print('total:',sum20+sum15)"
   ]
  },
  {
   "cell_type": "code",
   "execution_count": null,
   "id": "28b4634b",
   "metadata": {},
   "outputs": [],
   "source": []
  },
  {
   "cell_type": "markdown",
   "id": "88039e44",
   "metadata": {},
   "source": [
    "***amount that the bank loses annually with the annual churn of customers with higher-than-average salaries - 31.373,947***\n",
    "\n",
    "\n",
    "***amount that the bank loses annually with the annual churn of customers with salaries lower than the average - 7.472,377***\n",
    "\n",
    "\n",
    "***amount the bank lost annually from all churn customers - 38.846,324***\n"
   ]
  },
  {
   "cell_type": "markdown",
   "id": "855023c5",
   "metadata": {},
   "source": [
    "***HOW MUCH WILL THIS DECREASE WITH THE USE OF THE MODEL (5% decrease which is the difference between the model's accuracy and the current % of churn- 1.942,316***\n",
    "\n",
    "\n",
    "***HOW MUCH THE BANK WILL CONTINUE TO LOSE WITH THE MODEL - 36.904,008 (STILL STUDYING HOW TO IMPROVE THE MODEL AND REDUCE THIS LOSS)***"
   ]
  },
  {
   "cell_type": "code",
   "execution_count": 81,
   "id": "e67c063f",
   "metadata": {},
   "outputs": [],
   "source": [
    "performance = {'WITHOUT MODEL':38.846,'WITH MODEL':36.904}"
   ]
  },
  {
   "cell_type": "code",
   "execution_count": 82,
   "id": "5ee020d2",
   "metadata": {},
   "outputs": [
    {
     "name": "stdout",
     "output_type": "stream",
     "text": [
      "WITHOUT MODEL: 38.846\n",
      "WITH MODEL: 36.904\n",
      "5% REDUCTION: 1.942 316\n"
     ]
    },
    {
     "data": {
      "image/png": "[encoded data removed]",
      "text/plain": [
       "<Figure size 576x360 with 1 Axes>"
      ]
     },
     "metadata": {
      "needs_background": "light"
     },
     "output_type": "display_data"
    }
   ],
   "source": [
    "print('WITHOUT MODEL:',38.846)\n",
    "print('WITH MODEL:',36.904)\n",
    "print('5% REDUCTION:',1.942,316)\n",
    "plt.figure(figsize=(8,5))\n",
    "plt.bar(performance.keys(),performance.values(),color = ['red','green'])\n",
    "plt.title('ANNUAL LOSS IN MILLIONS')\n",
    "plt.ylabel('VALUES')\n",
    "plt.grid()\n",
    "\n",
    "plt.show()"
   ]
  },
  {
   "cell_type": "code",
   "execution_count": null,
   "id": "a027e380",
   "metadata": {},
   "outputs": [],
   "source": []
  },
  {
   "cell_type": "code",
   "execution_count": null,
   "id": "dd32e68a",
   "metadata": {},
   "outputs": [],
   "source": []
  }
 ],
 "metadata": {
  "kernelspec": {
   "display_name": "Python 3 (ipykernel)",
   "language": "python",
   "name": "python3"
  },
  "language_info": {
   "codemirror_mode": {
    "name": "ipython",
    "version": 3
   },
   "file_extension": ".py",
   "mimetype": "text/x-python",
   "name": "python",
   "nbconvert_exporter": "python",
   "pygments_lexer": "ipython3",
   "version": "3.10.1"
  }
 },
 "nbformat": 4,
 "nbformat_minor": 5
}
