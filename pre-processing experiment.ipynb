{
 "cells": [
  {
   "cell_type": "markdown",
   "id": "c2488d91",
   "metadata": {},
   "source": [
    "***purpose of this file was to test feature selection shapes to verify if\n",
    "model performance could be improved if only more relevant features were used***"
   ]
  },
  {
   "cell_type": "code",
   "execution_count": 20,
   "id": "742853d3",
   "metadata": {},
   "outputs": [],
   "source": [
    "#IMPORT\n",
    "import pandas as pd\n",
    "from sklearn.preprocessing import LabelEncoder\n",
    "\n",
    "#feature selection and machine learning model\n",
    "from sklearn.ensemble import RandomForestClassifier\n",
    "from sklearn.model_selection import cross_val_score\n",
    "\n",
    "#balancing data\n",
    "from imblearn.over_sampling import SMOTE\n",
    "from imblearn.under_sampling import RandomUnderSampler\n",
    "\n",
    "\n",
    "#machine learning models\n",
    "from sklearn.neighbors import KNeighborsClassifier\n",
    "from sklearn.tree import DecisionTreeClassifier\n",
    "from sklearn.naive_bayes import GaussianNB\n",
    "from sklearn.linear_model import LogisticRegression\n",
    "from sklearn.naive_bayes import GaussianNB\n",
    "from sklearn.linear_model import SGDClassifier\n",
    "from sklearn.ensemble import RandomForestClassifier"
   ]
  },
  {
   "cell_type": "code",
   "execution_count": 21,
   "id": "c2733c01",
   "metadata": {},
   "outputs": [
    {
     "data": {
      "text/html": [
       "<div>\n",
       "<style scoped>\n",
       "    .dataframe tbody tr th:only-of-type {\n",
       "        vertical-align: middle;\n",
       "    }\n",
       "\n",
       "    .dataframe tbody tr th {\n",
       "        vertical-align: top;\n",
       "    }\n",
       "\n",
       "    .dataframe thead th {\n",
       "        text-align: right;\n",
       "    }\n",
       "</style>\n",
       "<table border=\"1\" class=\"dataframe\">\n",
       "  <thead>\n",
       "    <tr style=\"text-align: right;\">\n",
       "      <th></th>\n",
       "      <th>RowNumber</th>\n",
       "      <th>CustomerId</th>\n",
       "      <th>CreditScore</th>\n",
       "      <th>Geography</th>\n",
       "      <th>Gender</th>\n",
       "      <th>Age</th>\n",
       "      <th>Tenure</th>\n",
       "      <th>Balance</th>\n",
       "      <th>NumOfProducts</th>\n",
       "      <th>HasCrCard</th>\n",
       "      <th>IsActiveMember</th>\n",
       "      <th>EstimatedSalary</th>\n",
       "      <th>Exited</th>\n",
       "    </tr>\n",
       "  </thead>\n",
       "  <tbody>\n",
       "    <tr>\n",
       "      <th>0</th>\n",
       "      <td>1</td>\n",
       "      <td>15634602</td>\n",
       "      <td>619</td>\n",
       "      <td>France</td>\n",
       "      <td>Female</td>\n",
       "      <td>42</td>\n",
       "      <td>2</td>\n",
       "      <td>0.00</td>\n",
       "      <td>1</td>\n",
       "      <td>1</td>\n",
       "      <td>1</td>\n",
       "      <td>101348.88</td>\n",
       "      <td>1</td>\n",
       "    </tr>\n",
       "    <tr>\n",
       "      <th>1</th>\n",
       "      <td>2</td>\n",
       "      <td>15647311</td>\n",
       "      <td>608</td>\n",
       "      <td>Spain</td>\n",
       "      <td>Female</td>\n",
       "      <td>41</td>\n",
       "      <td>1</td>\n",
       "      <td>83807.86</td>\n",
       "      <td>1</td>\n",
       "      <td>0</td>\n",
       "      <td>1</td>\n",
       "      <td>112542.58</td>\n",
       "      <td>0</td>\n",
       "    </tr>\n",
       "    <tr>\n",
       "      <th>2</th>\n",
       "      <td>3</td>\n",
       "      <td>15619304</td>\n",
       "      <td>502</td>\n",
       "      <td>France</td>\n",
       "      <td>Female</td>\n",
       "      <td>42</td>\n",
       "      <td>8</td>\n",
       "      <td>159660.80</td>\n",
       "      <td>3</td>\n",
       "      <td>1</td>\n",
       "      <td>0</td>\n",
       "      <td>113931.57</td>\n",
       "      <td>1</td>\n",
       "    </tr>\n",
       "    <tr>\n",
       "      <th>3</th>\n",
       "      <td>4</td>\n",
       "      <td>15701354</td>\n",
       "      <td>699</td>\n",
       "      <td>France</td>\n",
       "      <td>Female</td>\n",
       "      <td>39</td>\n",
       "      <td>1</td>\n",
       "      <td>0.00</td>\n",
       "      <td>2</td>\n",
       "      <td>0</td>\n",
       "      <td>0</td>\n",
       "      <td>93826.63</td>\n",
       "      <td>0</td>\n",
       "    </tr>\n",
       "    <tr>\n",
       "      <th>4</th>\n",
       "      <td>5</td>\n",
       "      <td>15737888</td>\n",
       "      <td>850</td>\n",
       "      <td>Spain</td>\n",
       "      <td>Female</td>\n",
       "      <td>43</td>\n",
       "      <td>2</td>\n",
       "      <td>125510.82</td>\n",
       "      <td>1</td>\n",
       "      <td>1</td>\n",
       "      <td>1</td>\n",
       "      <td>79084.10</td>\n",
       "      <td>0</td>\n",
       "    </tr>\n",
       "  </tbody>\n",
       "</table>\n",
       "</div>"
      ],
      "text/plain": [
       "   RowNumber  CustomerId  CreditScore Geography  Gender  Age  Tenure  \\\n",
       "0          1    15634602          619    France  Female   42       2   \n",
       "1          2    15647311          608     Spain  Female   41       1   \n",
       "2          3    15619304          502    France  Female   42       8   \n",
       "3          4    15701354          699    France  Female   39       1   \n",
       "4          5    15737888          850     Spain  Female   43       2   \n",
       "\n",
       "     Balance  NumOfProducts  HasCrCard  IsActiveMember  EstimatedSalary  \\\n",
       "0       0.00              1          1               1        101348.88   \n",
       "1   83807.86              1          0               1        112542.58   \n",
       "2  159660.80              3          1               0        113931.57   \n",
       "3       0.00              2          0               0         93826.63   \n",
       "4  125510.82              1          1               1         79084.10   \n",
       "\n",
       "   Exited  \n",
       "0       1  \n",
       "1       0  \n",
       "2       1  \n",
       "3       0  \n",
       "4       0  "
      ]
     },
     "execution_count": 21,
     "metadata": {},
     "output_type": "execute_result"
    }
   ],
   "source": [
    "#PATH TO THE FILE\n",
    "path = 'churn.csv'\n",
    "\n",
    "#LOAD DATA\n",
    "data = pd.read_csv(path)\n",
    "data.drop('Surname',axis=1,inplace=True)\n",
    "data.head()"
   ]
  },
  {
   "cell_type": "code",
   "execution_count": 6,
   "id": "8a5ef94f",
   "metadata": {},
   "outputs": [],
   "source": [
    "#drop_columns1 - RowNumber,Gender,HasCrCard\n",
    "data1 = data.copy()\n",
    "\n",
    "#drop_column2 = RowNumber,Gender,HasCrCard,Tenure,IsActiveMember,Geography\n",
    "data2 = data.copy()"
   ]
  },
  {
   "cell_type": "code",
   "execution_count": 7,
   "id": "d23d78d9",
   "metadata": {},
   "outputs": [],
   "source": [
    "#binarizing categorical features\n",
    "\n",
    "LE = LabelEncoder()\n",
    "\n",
    "#METHOD FIT_TRANSFORM TO BINARIZING\n",
    "data['Gender'] = LE.fit_transform(data['Gender'])\n",
    "data['Geography'] = LE.fit_transform(data['Geography'])\n",
    "\n",
    "x = data.drop('Exited',axis=1)\n",
    "y = data.Exited"
   ]
  },
  {
   "cell_type": "code",
   "execution_count": null,
   "id": "eae06601",
   "metadata": {},
   "outputs": [],
   "source": []
  },
  {
   "cell_type": "code",
   "execution_count": 8,
   "id": "a8eae8af",
   "metadata": {},
   "outputs": [
    {
     "name": "stdout",
     "output_type": "stream",
     "text": [
      "<class 'pandas.core.frame.DataFrame'>\n",
      "RangeIndex: 10000 entries, 0 to 9999\n",
      "Data columns (total 13 columns):\n",
      " #   Column           Non-Null Count  Dtype  \n",
      "---  ------           --------------  -----  \n",
      " 0   RowNumber        10000 non-null  int64  \n",
      " 1   CustomerId       10000 non-null  int64  \n",
      " 2   CreditScore      10000 non-null  int64  \n",
      " 3   Geography        10000 non-null  int32  \n",
      " 4   Gender           10000 non-null  int32  \n",
      " 5   Age              10000 non-null  int64  \n",
      " 6   Tenure           10000 non-null  int64  \n",
      " 7   Balance          10000 non-null  float64\n",
      " 8   NumOfProducts    10000 non-null  int64  \n",
      " 9   HasCrCard        10000 non-null  int64  \n",
      " 10  IsActiveMember   10000 non-null  int64  \n",
      " 11  EstimatedSalary  10000 non-null  float64\n",
      " 12  Exited           10000 non-null  int64  \n",
      "dtypes: float64(2), int32(2), int64(9)\n",
      "memory usage: 937.6 KB\n"
     ]
    }
   ],
   "source": [
    "data.info()"
   ]
  },
  {
   "cell_type": "code",
   "execution_count": 9,
   "id": "b703d97b",
   "metadata": {},
   "outputs": [],
   "source": [
    "#feature selection"
   ]
  },
  {
   "cell_type": "code",
   "execution_count": 14,
   "id": "0131eeda",
   "metadata": {},
   "outputs": [
    {
     "data": {
      "text/plain": [
       "RandomForestClassifier(criterion='entropy', n_estimators=300)"
      ]
     },
     "execution_count": 14,
     "metadata": {},
     "output_type": "execute_result"
    }
   ],
   "source": [
    "#model definition\n",
    "model = RandomForestClassifier(criterion='entropy',max_features= 'auto',n_estimators= 300)\n",
    "\n",
    "model.fit(x,y)"
   ]
  },
  {
   "cell_type": "code",
   "execution_count": 15,
   "id": "69fe5d79",
   "metadata": {},
   "outputs": [],
   "source": [
    "feature_importances = pd.DataFrame(model.feature_importances_, index =x.columns, columns =['importance'] ).sort_values('importance',ascending=False)"
   ]
  },
  {
   "cell_type": "code",
   "execution_count": null,
   "id": "564225c4",
   "metadata": {},
   "outputs": [],
   "source": []
  },
  {
   "cell_type": "code",
   "execution_count": 13,
   "id": "14e33ab0",
   "metadata": {},
   "outputs": [
    {
     "data": {
      "text/plain": [
       "<AxesSubplot:>"
      ]
     },
     "execution_count": 13,
     "metadata": {},
     "output_type": "execute_result"
    },
    {
     "data": {
      "image/png": "[encoded data removed]",
      "text/plain": [
       "<Figure size 432x288 with 1 Axes>"
      ]
     },
     "metadata": {
      "needs_background": "light"
     },
     "output_type": "display_data"
    }
   ],
   "source": [
    "feature_importances.plot(kind='bar')"
   ]
  },
  {
   "cell_type": "code",
   "execution_count": 16,
   "id": "99ed7dd9",
   "metadata": {},
   "outputs": [
    {
     "data": {
      "text/plain": [
       "<AxesSubplot:>"
      ]
     },
     "execution_count": 16,
     "metadata": {},
     "output_type": "execute_result"
    },
    {
     "data": {
      "image/png": "[encoded data removed]",
      "text/plain": [
       "<Figure size 432x288 with 1 Axes>"
      ]
     },
     "metadata": {
      "needs_background": "light"
     },
     "output_type": "display_data"
    }
   ],
   "source": [
    "feature_importances.plot(kind='bar')"
   ]
  },
  {
   "cell_type": "code",
   "execution_count": 17,
   "id": "15e793a2",
   "metadata": {},
   "outputs": [],
   "source": [
    "#data1 - RowNumber,Gender,HasCrCard\n",
    "#data2 = RowNumber,Gender,HasCrCard,Tenure,IsActiveMember,Geography"
   ]
  },
  {
   "cell_type": "code",
   "execution_count": 26,
   "id": "ac11c3d6",
   "metadata": {},
   "outputs": [],
   "source": []
  },
  {
   "cell_type": "code",
   "execution_count": 8,
   "id": "dd14ad41",
   "metadata": {},
   "outputs": [],
   "source": [
    "#data1 preparation\n",
    "data1.drop(['RowNumber','Gender','HasCrCard'],axis=1,inplace=True)\n",
    "\n",
    "#data2 preparation\n",
    "data2.drop(['RowNumber','Gender','HasCrCard','Tenure','IsActiveMember','Geography'],axis=1,inplace=True)"
   ]
  },
  {
   "cell_type": "code",
   "execution_count": 9,
   "id": "142aa7d8",
   "metadata": {},
   "outputs": [
    {
     "name": "stdout",
     "output_type": "stream",
     "text": [
      "<class 'pandas.core.frame.DataFrame'>\n",
      "RangeIndex: 10000 entries, 0 to 9999\n",
      "Data columns (total 10 columns):\n",
      " #   Column           Non-Null Count  Dtype  \n",
      "---  ------           --------------  -----  \n",
      " 0   CustomerId       10000 non-null  int64  \n",
      " 1   CreditScore      10000 non-null  int64  \n",
      " 2   Geography        10000 non-null  object \n",
      " 3   Age              10000 non-null  int64  \n",
      " 4   Tenure           10000 non-null  int64  \n",
      " 5   Balance          10000 non-null  float64\n",
      " 6   NumOfProducts    10000 non-null  int64  \n",
      " 7   IsActiveMember   10000 non-null  int64  \n",
      " 8   EstimatedSalary  10000 non-null  float64\n",
      " 9   Exited           10000 non-null  int64  \n",
      "dtypes: float64(2), int64(7), object(1)\n",
      "memory usage: 781.4+ KB\n"
     ]
    }
   ],
   "source": [
    "data1.info()"
   ]
  },
  {
   "cell_type": "code",
   "execution_count": 10,
   "id": "4b591d91",
   "metadata": {},
   "outputs": [
    {
     "name": "stdout",
     "output_type": "stream",
     "text": [
      "<class 'pandas.core.frame.DataFrame'>\n",
      "RangeIndex: 10000 entries, 0 to 9999\n",
      "Data columns (total 7 columns):\n",
      " #   Column           Non-Null Count  Dtype  \n",
      "---  ------           --------------  -----  \n",
      " 0   CustomerId       10000 non-null  int64  \n",
      " 1   CreditScore      10000 non-null  int64  \n",
      " 2   Age              10000 non-null  int64  \n",
      " 3   Balance          10000 non-null  float64\n",
      " 4   NumOfProducts    10000 non-null  int64  \n",
      " 5   EstimatedSalary  10000 non-null  float64\n",
      " 6   Exited           10000 non-null  int64  \n",
      "dtypes: float64(2), int64(5)\n",
      "memory usage: 547.0 KB\n"
     ]
    }
   ],
   "source": [
    "data2.info()"
   ]
  },
  {
   "cell_type": "code",
   "execution_count": 11,
   "id": "98f030aa",
   "metadata": {},
   "outputs": [],
   "source": [
    "LE = LabelEncoder()\n",
    "\n",
    "#METHOD FIT_TRANSFORM TO BINARIZING\n",
    "data1['Geography'] = LE.fit_transform(data1['Geography'])\n",
    "\n",
    "x1 = data1.drop('Exited',axis=1)\n",
    "y1 = data1.Exited"
   ]
  },
  {
   "cell_type": "code",
   "execution_count": 12,
   "id": "3c185a2d",
   "metadata": {},
   "outputs": [],
   "source": [
    "x2 = data2.drop('Exited',axis=1)\n",
    "y2 = data2.Exited"
   ]
  },
  {
   "cell_type": "code",
   "execution_count": 32,
   "id": "35823780",
   "metadata": {},
   "outputs": [],
   "source": []
  },
  {
   "cell_type": "code",
   "execution_count": 14,
   "id": "17f31c79",
   "metadata": {},
   "outputs": [],
   "source": [
    "over_sampling = SMOTE()\n",
    "\n",
    "#data1\n",
    "x_dummies1,y_dummies1 = over_sampling.fit_resample(x1,y1)\n",
    "\n",
    "#data2\n",
    "x_dummies2,y_dummies2 = over_sampling.fit_resample(x2,y2)"
   ]
  },
  {
   "cell_type": "code",
   "execution_count": 34,
   "id": "23a2eda2",
   "metadata": {},
   "outputs": [],
   "source": []
  },
  {
   "cell_type": "code",
   "execution_count": 35,
   "id": "f9bbcec2",
   "metadata": {},
   "outputs": [],
   "source": [
    "score_test1 = cross_val_score(model,x_dummies1,y_dummies1)\n",
    "\n",
    "score_test2 = cross_val_score(model,x_dummies2,y_dummies2)"
   ]
  },
  {
   "cell_type": "code",
   "execution_count": 36,
   "id": "eebfb888",
   "metadata": {},
   "outputs": [
    {
     "name": "stdout",
     "output_type": "stream",
     "text": [
      "RandomForestClassifier(criterion='entropy', n_estimators=300) score data1: 0.856340130141583\n",
      "RandomForestClassifier(criterion='entropy', n_estimators=300) score data2: 0.8237489369208497\n"
     ]
    }
   ],
   "source": [
    "print('{} score data1: {}'.format(model, score_test1.mean()))\n",
    "print('{} score data2: {}'.format(model, score_test2.mean()))"
   ]
  },
  {
   "cell_type": "code",
   "execution_count": 38,
   "id": "11d8daee",
   "metadata": {},
   "outputs": [],
   "source": []
  },
  {
   "cell_type": "code",
   "execution_count": 17,
   "id": "2fa97c36",
   "metadata": {},
   "outputs": [],
   "source": [
    "rus = RandomUnderSampler(random_state=42)\n",
    "\n",
    "x_under1,y_under1 = rus.fit_resample(x1, y1)\n",
    "\n",
    "#data2\n",
    "x_under2,y_under2 = rus.fit_resample(x2, y2)"
   ]
  },
  {
   "cell_type": "code",
   "execution_count": 40,
   "id": "a9eeb25d",
   "metadata": {},
   "outputs": [],
   "source": [
    "#the randomforestclassifier was used because it was what performed better with the normal dataset without the feature selection process\n",
    "\n",
    "score1 = cross_val_score(model,x_under1,y_under1)\n",
    "\n",
    "score2 = cross_val_score(model,x_under2,y_under2)"
   ]
  },
  {
   "cell_type": "code",
   "execution_count": 41,
   "id": "5c36e1cc",
   "metadata": {},
   "outputs": [
    {
     "name": "stdout",
     "output_type": "stream",
     "text": [
      "RandomForestClassifier(criterion='entropy', n_estimators=300) score data1: 0.7702470568728238\n",
      "RandomForestClassifier(criterion='entropy', n_estimators=300) score data2: 0.7459468503640283\n"
     ]
    }
   ],
   "source": [
    "print('{} score data1: {}'.format(model, score1.mean()))\n",
    "print('{} score data2: {}'.format(model, score2.mean()))"
   ]
  },
  {
   "cell_type": "code",
   "execution_count": null,
   "id": "e9525dc6",
   "metadata": {},
   "outputs": [],
   "source": [
    "#result with no feature selection  - 0.85\n",
    "#result with feature selection method1 - 0.77\n",
    "#result with feature selection method2 - 0.74"
   ]
  },
  {
   "cell_type": "markdown",
   "id": "4d610c5b",
   "metadata": {},
   "source": [
    "***combination of data balancing methods to try to improve model performance***"
   ]
  },
  {
   "cell_type": "code",
   "execution_count": 15,
   "id": "1bf9c399",
   "metadata": {},
   "outputs": [
    {
     "name": "stdout",
     "output_type": "stream",
     "text": [
      "KNeighborsClassifier() score: 0.7154970381604764\n",
      "DecisionTreeClassifier() score: 0.784757036524591\n",
      "GaussianNB() score: 0.7082770874538429\n",
      "LogisticRegression() score: 0.5728373052828258\n",
      "GaussianNB() score: 0.7082770874538429\n",
      "SGDClassifier() score: 0.5256789269380068\n",
      "RandomForestClassifier() score: 0.854393741851369\n"
     ]
    }
   ],
   "source": [
    "#TRAINING AND TESTING THE MODEL WITH CROSS VALIDATION WITH over_sampling WITH #data1 - RowNumber,Gender,HasCrCard\n",
    "Models = []\n",
    "Scores = []\n",
    "knc = KNeighborsClassifier(n_neighbors=5)\n",
    "dtc = DecisionTreeClassifier()\n",
    "gs = GaussianNB()\n",
    "clf = LogisticRegression()\n",
    "gnb = GaussianNB()\n",
    "scf = SGDClassifier()\n",
    "rfc = RandomForestClassifier()\n",
    "\n",
    "models = [knc,dtc,gs,clf,gnb,scf,rfc]\n",
    "\n",
    "for model in models:\n",
    "    score = cross_val_score(model,x_dummies1,y_dummies1)\n",
    "    print('{} score: {}'.format(model, score.mean()))\n",
    "    Models.append(model)\n",
    "    Scores.append(score.mean())"
   ]
  },
  {
   "cell_type": "code",
   "execution_count": 16,
   "id": "29a27efe",
   "metadata": {},
   "outputs": [
    {
     "name": "stdout",
     "output_type": "stream",
     "text": [
      "KNeighborsClassifier() score: 0.7099090506838692\n",
      "DecisionTreeClassifier() score: 0.7501573504963336\n",
      "GaussianNB() score: 0.7010556782469616\n",
      "LogisticRegression() score: 0.5738420345684268\n",
      "GaussianNB() score: 0.7010556782469616\n",
      "SGDClassifier() score: 0.5025117739403453\n",
      "RandomForestClassifier() score: 0.8208601012475103\n"
     ]
    }
   ],
   "source": [
    "#TRAINING AND TESTING THE MODEL WITH CROSS VALIDATION \n",
    "Models = []\n",
    "Scores = []\n",
    "knc = KNeighborsClassifier(n_neighbors=5)\n",
    "dtc = DecisionTreeClassifier()\n",
    "gs = GaussianNB()\n",
    "clf = LogisticRegression()\n",
    "gnb = GaussianNB()\n",
    "scf = SGDClassifier()\n",
    "rfc = RandomForestClassifier()\n",
    "\n",
    "models = [knc,dtc,gs,clf,gnb,scf,rfc]\n",
    "\n",
    "for model in models:\n",
    "    score = cross_val_score(model,x_dummies2,y_dummies2)\n",
    "    print('{} score: {}'.format(model, score.mean()))\n",
    "    Models.append(model)\n",
    "    Scores.append(score.mean())"
   ]
  },
  {
   "cell_type": "code",
   "execution_count": null,
   "id": "06ae8c17",
   "metadata": {},
   "outputs": [],
   "source": []
  },
  {
   "cell_type": "code",
   "execution_count": null,
   "id": "3053afcd",
   "metadata": {},
   "outputs": [],
   "source": []
  },
  {
   "cell_type": "code",
   "execution_count": 18,
   "id": "1b76d72a",
   "metadata": {},
   "outputs": [
    {
     "name": "stdout",
     "output_type": "stream",
     "text": [
      "KNeighborsClassifier() score: 0.519392833994061\n",
      "DecisionTreeClassifier() score: 0.6961206493721831\n",
      "GaussianNB() score: 0.6907203690025776\n",
      "LogisticRegression() score: 0.5697107369500009\n",
      "GaussianNB() score: 0.6907203690025776\n",
      "SGDClassifier() score: 0.521840490797546\n",
      "RandomForestClassifier() score: 0.7717173392020017\n"
     ]
    }
   ],
   "source": [
    "#TRAINING AND TESTING THE MODEL WITH CROSS VALIDATION TO SEE WHICH IS THE BEST ONE\n",
    "Models = []\n",
    "Scores = []\n",
    "knc = KNeighborsClassifier(n_neighbors=5)\n",
    "dtc = DecisionTreeClassifier()\n",
    "gs = GaussianNB()\n",
    "clf = LogisticRegression()\n",
    "gnb = GaussianNB()\n",
    "scf = SGDClassifier()\n",
    "rfc = RandomForestClassifier()\n",
    "\n",
    "models = [knc,dtc,gs,clf,gnb,scf,rfc]\n",
    "\n",
    "for model in models:\n",
    "    score = cross_val_score(model,x_under1,y_under1)\n",
    "    print('{} score: {}'.format(model, score.mean()))\n",
    "    Models.append(model)\n",
    "    Scores.append(score.mean())"
   ]
  },
  {
   "cell_type": "code",
   "execution_count": 19,
   "id": "8b96bfa5",
   "metadata": {},
   "outputs": [
    {
     "name": "stdout",
     "output_type": "stream",
     "text": [
      "KNeighborsClassifier() score: 0.519392833994061\n",
      "DecisionTreeClassifier() score: 0.6676444431045658\n",
      "GaussianNB() score: 0.6880191736633454\n",
      "LogisticRegression() score: 0.5697107369500009\n",
      "GaussianNB() score: 0.6880191736633454\n",
      "SGDClassifier() score: 0.5134969325153375\n",
      "RandomForestClassifier() score: 0.7429996533064018\n"
     ]
    }
   ],
   "source": [
    "#TRAINING AND TESTING THE MODEL WITH CROSS VALIDATION TO SEE WHICH IS THE BEST ONE\n",
    "Models = []\n",
    "Scores = []\n",
    "knc = KNeighborsClassifier(n_neighbors=5)\n",
    "dtc = DecisionTreeClassifier()\n",
    "gs = GaussianNB()\n",
    "clf = LogisticRegression()\n",
    "gnb = GaussianNB()\n",
    "scf = SGDClassifier()\n",
    "rfc = RandomForestClassifier()\n",
    "\n",
    "models = [knc,dtc,gs,clf,gnb,scf,rfc]\n",
    "\n",
    "for model in models:\n",
    "    score = cross_val_score(model,x_under2,y_under2)\n",
    "    print('{} score: {}'.format(model, score.mean()))\n",
    "    Models.append(model)\n",
    "    Scores.append(score.mean())"
   ]
  }
 ],
 "metadata": {
  "kernelspec": {
   "display_name": "Python 3 (ipykernel)",
   "language": "python",
   "name": "python3"
  },
  "language_info": {
   "codemirror_mode": {
    "name": "ipython",
    "version": 3
   },
   "file_extension": ".py",
   "mimetype": "text/x-python",
   "name": "python",
   "nbconvert_exporter": "python",
   "pygments_lexer": "ipython3",
   "version": "3.10.1"
  }
 },
 "nbformat": 4,
 "nbformat_minor": 5
}
